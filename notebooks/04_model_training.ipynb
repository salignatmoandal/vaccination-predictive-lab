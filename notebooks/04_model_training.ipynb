{
 "cells": [],
 "metadata": {
  "kernelspec": {
   "display_name": "playground-ai",
   "language": "python",
   "name": "python3"
  },
  "language_info": {
   "name": "python",
   "version": "3.11.14"
  }
 },
 "nbformat": 4,
 "nbformat_minor": 5
}
