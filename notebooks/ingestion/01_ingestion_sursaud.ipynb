{
 "cells": [
  {
   "cell_type": "code",
   "execution_count": 4,
   "id": "1dc8f76d",
   "metadata": {},
   "outputs": [],
   "source": [
    "import pandas as pd\n",
    "from pathlib import Path"
   ]
  },
  {
   "cell_type": "code",
   "execution_count": 7,
   "id": "458f397f",
   "metadata": {},
   "outputs": [],
   "source": [
    "def load_sursaud():\n",
    "    \"\"\"Ingestion MVP - Simple et efficace\"\"\"\n",
    "    \n",
    "    # Chemin vers les données\n",
    "    BASE_PATH = Path(\"/Users/mawensalignat-moandal/Documents/Engineering/school/S3/hackaton/vaccination-predictive-lab/data/raw/sursaud\")\n",
    "    path = BASE_PATH / \"grippe-urgence.csv\"\n",
    "    \n",
    "    # Chargement\n",
    "    df = pd.read_csv(path, sep=\",\", encoding=\"utf-8\")\n",
    "    \n",
    "    # Nettoyage basique des colonnes\n",
    "    df.columns = ['date_debut_semaine', 'semaine', 'classe_age', \n",
    "                  'taux_urgences_grippe', 'taux_hospitalisations_grippe', \n",
    "                  'taux_sos_medecins_grippe']\n",
    "    \n",
    "    # Conversion des dates\n",
    "    df['date_debut_semaine'] = pd.to_datetime(df['date_debut_semaine'])\n",
    "    \n",
    "    return df"
   ]
  },
  {
   "cell_type": "code",
   "execution_count": 9,
   "id": "dedae93d",
   "metadata": {},
   "outputs": [
    {
     "name": "stdout",
     "output_type": "stream",
     "text": [
      "✅ INGESTION MVP TERMINÉE\n",
      "📊 Données : 1510 lignes, 6 colonnes\n",
      "📅 Période : 2019-12-30 00:00:00 à 2025-10-06 00:00:00\n",
      "👥 Classes d'âge : 5\n",
      "💾 Sauvegardé : data/cleaned/sursaud_cleaned.csv\n"
     ]
    }
   ],
   "source": [
    "df_sursaud = load_sursaud()\n",
    "df_sursaud.to_csv(\"../../data/cleaned/sursaud_cleaned.csv\", index=False)\n",
    "print(\"✅ INGESTION MVP TERMINÉE\")\n",
    "print(f\"📊 Données : {df_sursaud.shape[0]} lignes, {df_sursaud.shape[1]} colonnes\")\n",
    "print(f\"📅 Période : {df_sursaud['date_debut_semaine'].min()} à {df_sursaud['date_debut_semaine'].max()}\")\n",
    "print(f\"👥 Classes d'âge : {df_sursaud['classe_age'].nunique()}\")\n",
    "print(f\"💾 Sauvegardé : data/cleaned/sursaud_cleaned.csv\")"
   ]
  }
 ],
 "metadata": {
  "kernelspec": {
   "display_name": "playground-ai",
   "language": "python",
   "name": "python3"
  },
  "language_info": {
   "codemirror_mode": {
    "name": "ipython",
    "version": 3
   },
   "file_extension": ".py",
   "mimetype": "text/x-python",
   "name": "python",
   "nbconvert_exporter": "python",
   "pygments_lexer": "ipython3",
   "version": "3.11.14"
  }
 },
 "nbformat": 4,
 "nbformat_minor": 5
}
