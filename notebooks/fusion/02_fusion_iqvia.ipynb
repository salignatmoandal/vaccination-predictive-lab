{
 "cells": [
  {
   "cell_type": "code",
   "execution_count": 1,
   "id": "0d76d011",
   "metadata": {},
   "outputs": [
    {
     "name": "stdout",
     "output_type": "stream",
     "text": [
      "🔗 FUSION DES DONNÉES IQVIA CLEANED\n",
      "=============================================\n"
     ]
    }
   ],
   "source": [
    "import pandas as pd\n",
    "import numpy as np\n",
    "\n",
    "print(\"🔗 FUSION DES DONNÉES IQVIA CLEANED\")\n",
    "print(\"=\" * 45)"
   ]
  },
  {
   "cell_type": "code",
   "execution_count": 3,
   "id": "38ca4783",
   "metadata": {},
   "outputs": [
    {
     "name": "stdout",
     "output_type": "stream",
     "text": [
      "📊 Données cleaned chargées :\n",
      "   Campagne : (15, 5)\n",
      "   Couverture : (156, 5)\n",
      "   Doses : (3096, 6)\n"
     ]
    }
   ],
   "source": [
    "# Cell 1: Chargement des données cleaned\n",
    "df_campagne = pd.read_csv(\"../../data/cleaned/iqvia_campagne_cleaned.csv\")\n",
    "df_couverture = pd.read_csv(\"../../data/cleaned/iqvia_couverture_cleaned.csv\")\n",
    "df_doses = pd.read_csv(\"../../data/cleaned/iqvia_doses_cleaned.csv\")\n",
    "\n",
    "# Conversion des dates\n",
    "df_campagne['date'] = pd.to_datetime(df_campagne['date'])\n",
    "df_doses['date'] = pd.to_datetime(df_doses['date'])\n",
    "\n",
    "print(f\"📊 Données cleaned chargées :\")\n",
    "print(f\"   Campagne : {df_campagne.shape}\")\n",
    "print(f\"   Couverture : {df_couverture.shape}\")\n",
    "print(f\"   Doses : {df_doses.shape}\")\n"
   ]
  },
  {
   "cell_type": "code",
   "execution_count": 4,
   "id": "6b63dab2",
   "metadata": {},
   "outputs": [
    {
     "name": "stdout",
     "output_type": "stream",
     "text": [
      "\n",
      "🔄 Préparation pour fusion...\n",
      "✅ Données pivotées\n"
     ]
    }
   ],
   "source": [
    "# Cell 2: Préparation pour fusion\n",
    "print(\"\\n🔄 Préparation pour fusion...\")\n",
    "\n",
    "# 1. Pivot des données de campagne\n",
    "df_campagne_pivot = df_campagne.pivot_table(\n",
    "    index=['campagne', 'date'], \n",
    "    columns='variable', \n",
    "    values='valeur', \n",
    "    aggfunc='first'\n",
    ").reset_index()\n",
    "\n",
    "# 2. Pivot des données de couverture\n",
    "df_couverture_pivot = df_couverture.pivot_table(\n",
    "    index=['region', 'code_region', 'groupe_age'], \n",
    "    columns='variable', \n",
    "    values='valeur', \n",
    "    aggfunc='first'\n",
    ").reset_index()\n",
    "\n",
    "# 3. Pivot des données doses\n",
    "df_doses_pivot = df_doses.pivot_table(\n",
    "    index=['campagne', 'date', 'jour', 'groupe_age'], \n",
    "    columns='variable', \n",
    "    values='valeur', \n",
    "    aggfunc='first'\n",
    ").reset_index()\n",
    "\n",
    "print(\"✅ Données pivotées\")"
   ]
  },
  {
   "cell_type": "code",
   "execution_count": 5,
   "id": "6acfabec",
   "metadata": {},
   "outputs": [
    {
     "name": "stdout",
     "output_type": "stream",
     "text": [
      "\n",
      "🎯 Création du dataset fusionné...\n",
      "✅ Dataset principal : (1010, 9)\n"
     ]
    }
   ],
   "source": [
    "# Cell 3: Création du dataset fusionné\n",
    "print(\"\\n🎯 Création du dataset fusionné...\")\n",
    "\n",
    "# Dataset principal : doses agrégées par date et groupe d'âge\n",
    "df_doses_agg = df_doses_pivot.groupby(['date', 'groupe_age', 'campagne']).agg({\n",
    "    'DOSES(J07E1)': 'sum',\n",
    "    'ACTE(VGP)': 'sum'\n",
    "}).reset_index()\n",
    "\n",
    "# Ajout des composants temporels\n",
    "df_doses_agg['annee'] = df_doses_agg['date'].dt.year\n",
    "df_doses_agg['mois'] = df_doses_agg['date'].dt.month\n",
    "df_doses_agg['jour_semaine'] = df_doses_agg['date'].dt.dayofweek\n",
    "df_doses_agg['semaine_annee'] = df_doses_agg['date'].dt.isocalendar().week\n",
    "\n",
    "print(f\"✅ Dataset principal : {df_doses_agg.shape}\")"
   ]
  },
  {
   "cell_type": "code",
   "execution_count": 6,
   "id": "a4a9c52a",
   "metadata": {},
   "outputs": [
    {
     "name": "stdout",
     "output_type": "stream",
     "text": [
      "\n",
      "📊 Ajout des données de campagne...\n",
      "✅ Dataset fusionné : (1010, 14)\n"
     ]
    }
   ],
   "source": [
    "# Cell 4: Ajout des données de campagne\n",
    "print(\"\\n📊 Ajout des données de campagne...\")\n",
    "\n",
    "# Agrégation des données de campagne par date\n",
    "campagne_daily = df_campagne_pivot.groupby('date').agg({\n",
    "    'DOSES(J07E1)': 'mean',\n",
    "    'ACTE(VGP)': 'mean',\n",
    "    'UNIVERS': 'mean',\n",
    "    'PHARMACIES': 'mean',\n",
    "    'POURCENTAGE': 'mean'\n",
    "}).reset_index()\n",
    "\n",
    "# Fusion avec les données principales\n",
    "df_iqvia_fusionne = pd.merge(\n",
    "    df_doses_agg,\n",
    "    campagne_daily,\n",
    "    on='date',\n",
    "    how='left',\n",
    "    suffixes=('', '_campagne')\n",
    ")\n",
    "\n",
    "print(f\"✅ Dataset fusionné : {df_iqvia_fusionne.shape}\")\n"
   ]
  },
  {
   "cell_type": "code",
   "execution_count": 7,
   "id": "3e9befac",
   "metadata": {},
   "outputs": [
    {
     "name": "stdout",
     "output_type": "stream",
     "text": [
      "\n",
      "💾 Sauvegarde...\n",
      "✅ Dataset fusionné sauvegardé : iqvia_fusionne_cleaned.csv\n",
      "\n",
      "📋 VALIDATION FINALE\n",
      "==============================\n",
      "📊 Shape final : (1010, 14)\n",
      "📅 Période : 2021-10-22 00:00:00 à 2025-01-28 00:00:00\n",
      "👥 Groupes d'âge : 2\n",
      "🗓️ Campagnes : 4\n",
      "\n",
      "🔍 Aperçu du dataset fusionné :\n"
     ]
    },
    {
     "data": {
      "text/html": [
       "<div>\n",
       "<style scoped>\n",
       "    .dataframe tbody tr th:only-of-type {\n",
       "        vertical-align: middle;\n",
       "    }\n",
       "\n",
       "    .dataframe tbody tr th {\n",
       "        vertical-align: top;\n",
       "    }\n",
       "\n",
       "    .dataframe thead th {\n",
       "        text-align: right;\n",
       "    }\n",
       "</style>\n",
       "<table border=\"1\" class=\"dataframe\">\n",
       "  <thead>\n",
       "    <tr style=\"text-align: right;\">\n",
       "      <th>variable</th>\n",
       "      <th>date</th>\n",
       "      <th>groupe_age</th>\n",
       "      <th>campagne</th>\n",
       "      <th>DOSES(J07E1)</th>\n",
       "      <th>ACTE(VGP)</th>\n",
       "      <th>annee</th>\n",
       "      <th>mois</th>\n",
       "      <th>jour_semaine</th>\n",
       "      <th>semaine_annee</th>\n",
       "      <th>DOSES(J07E1)_campagne</th>\n",
       "      <th>ACTE(VGP)_campagne</th>\n",
       "      <th>UNIVERS</th>\n",
       "      <th>PHARMACIES</th>\n",
       "      <th>POURCENTAGE</th>\n",
       "    </tr>\n",
       "  </thead>\n",
       "  <tbody>\n",
       "    <tr>\n",
       "      <th>0</th>\n",
       "      <td>2021-10-22</td>\n",
       "      <td>65 ans et plus</td>\n",
       "      <td>2021-2022</td>\n",
       "      <td>567525</td>\n",
       "      <td>117217</td>\n",
       "      <td>2021</td>\n",
       "      <td>10</td>\n",
       "      <td>4</td>\n",
       "      <td>42</td>\n",
       "      <td>NaN</td>\n",
       "      <td>NaN</td>\n",
       "      <td>NaN</td>\n",
       "      <td>NaN</td>\n",
       "      <td>NaN</td>\n",
       "    </tr>\n",
       "    <tr>\n",
       "      <th>1</th>\n",
       "      <td>2021-10-22</td>\n",
       "      <td>moins de 65 ans</td>\n",
       "      <td>2021-2022</td>\n",
       "      <td>111876</td>\n",
       "      <td>24537</td>\n",
       "      <td>2021</td>\n",
       "      <td>10</td>\n",
       "      <td>4</td>\n",
       "      <td>42</td>\n",
       "      <td>NaN</td>\n",
       "      <td>NaN</td>\n",
       "      <td>NaN</td>\n",
       "      <td>NaN</td>\n",
       "      <td>NaN</td>\n",
       "    </tr>\n",
       "    <tr>\n",
       "      <th>2</th>\n",
       "      <td>2021-10-23</td>\n",
       "      <td>65 ans et plus</td>\n",
       "      <td>2021-2022</td>\n",
       "      <td>234990</td>\n",
       "      <td>42728</td>\n",
       "      <td>2021</td>\n",
       "      <td>10</td>\n",
       "      <td>5</td>\n",
       "      <td>42</td>\n",
       "      <td>NaN</td>\n",
       "      <td>NaN</td>\n",
       "      <td>NaN</td>\n",
       "      <td>NaN</td>\n",
       "      <td>NaN</td>\n",
       "    </tr>\n",
       "    <tr>\n",
       "      <th>3</th>\n",
       "      <td>2021-10-23</td>\n",
       "      <td>moins de 65 ans</td>\n",
       "      <td>2021-2022</td>\n",
       "      <td>54861</td>\n",
       "      <td>12205</td>\n",
       "      <td>2021</td>\n",
       "      <td>10</td>\n",
       "      <td>5</td>\n",
       "      <td>42</td>\n",
       "      <td>NaN</td>\n",
       "      <td>NaN</td>\n",
       "      <td>NaN</td>\n",
       "      <td>NaN</td>\n",
       "      <td>NaN</td>\n",
       "    </tr>\n",
       "    <tr>\n",
       "      <th>4</th>\n",
       "      <td>2021-10-24</td>\n",
       "      <td>65 ans et plus</td>\n",
       "      <td>2021-2022</td>\n",
       "      <td>2005</td>\n",
       "      <td>351</td>\n",
       "      <td>2021</td>\n",
       "      <td>10</td>\n",
       "      <td>6</td>\n",
       "      <td>42</td>\n",
       "      <td>NaN</td>\n",
       "      <td>NaN</td>\n",
       "      <td>NaN</td>\n",
       "      <td>NaN</td>\n",
       "      <td>NaN</td>\n",
       "    </tr>\n",
       "  </tbody>\n",
       "</table>\n",
       "</div>"
      ],
      "text/plain": [
       "variable       date       groupe_age   campagne  DOSES(J07E1)  ACTE(VGP)  \\\n",
       "0        2021-10-22   65 ans et plus  2021-2022        567525     117217   \n",
       "1        2021-10-22  moins de 65 ans  2021-2022        111876      24537   \n",
       "2        2021-10-23   65 ans et plus  2021-2022        234990      42728   \n",
       "3        2021-10-23  moins de 65 ans  2021-2022         54861      12205   \n",
       "4        2021-10-24   65 ans et plus  2021-2022          2005        351   \n",
       "\n",
       "variable  annee  mois  jour_semaine  semaine_annee  DOSES(J07E1)_campagne  \\\n",
       "0          2021    10             4             42                    NaN   \n",
       "1          2021    10             4             42                    NaN   \n",
       "2          2021    10             5             42                    NaN   \n",
       "3          2021    10             5             42                    NaN   \n",
       "4          2021    10             6             42                    NaN   \n",
       "\n",
       "variable  ACTE(VGP)_campagne  UNIVERS  PHARMACIES  POURCENTAGE  \n",
       "0                        NaN      NaN         NaN          NaN  \n",
       "1                        NaN      NaN         NaN          NaN  \n",
       "2                        NaN      NaN         NaN          NaN  \n",
       "3                        NaN      NaN         NaN          NaN  \n",
       "4                        NaN      NaN         NaN          NaN  "
      ]
     },
     "metadata": {},
     "output_type": "display_data"
    },
    {
     "name": "stdout",
     "output_type": "stream",
     "text": [
      "\n",
      "🎉 FUSION TERMINÉE !\n"
     ]
    }
   ],
   "source": [
    "# Cell 5: Sauvegarde\n",
    "print(\"\\n💾 Sauvegarde...\")\n",
    "\n",
    "df_iqvia_fusionne.to_csv(\"../../data/cleaned/iqvia_fusionne_cleaned.csv\", index=False)\n",
    "\n",
    "print(\"✅ Dataset fusionné sauvegardé : iqvia_fusionne_cleaned.csv\")\n",
    "\n",
    "# Cell 6: Validation finale\n",
    "print(\"\\n📋 VALIDATION FINALE\")\n",
    "print(\"=\" * 30)\n",
    "\n",
    "print(f\"📊 Shape final : {df_iqvia_fusionne.shape}\")\n",
    "print(f\"📅 Période : {df_iqvia_fusionne['date'].min()} à {df_iqvia_fusionne['date'].max()}\")\n",
    "print(f\"👥 Groupes d'âge : {df_iqvia_fusionne['groupe_age'].nunique()}\")\n",
    "print(f\"🗓️ Campagnes : {df_iqvia_fusionne['campagne'].nunique()}\")\n",
    "\n",
    "print(\"\\n🔍 Aperçu du dataset fusionné :\")\n",
    "display(df_iqvia_fusionne.head())\n",
    "\n",
    "print(\"\\n🎉 FUSION TERMINÉE !\")"
   ]
  }
 ],
 "metadata": {
  "kernelspec": {
   "display_name": "playground-ai",
   "language": "python",
   "name": "python3"
  },
  "language_info": {
   "codemirror_mode": {
    "name": "ipython",
    "version": 3
   },
   "file_extension": ".py",
   "mimetype": "text/x-python",
   "name": "python",
   "nbconvert_exporter": "python",
   "pygments_lexer": "ipython3",
   "version": "3.11.14"
  }
 },
 "nbformat": 4,
 "nbformat_minor": 5
}
